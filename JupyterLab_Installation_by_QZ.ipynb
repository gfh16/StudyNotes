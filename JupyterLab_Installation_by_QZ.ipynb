{
 "cells": [
  {
   "cell_type": "markdown",
   "metadata": {},
   "source": [
    "# JupyterLab Installation by QZ"
   ]
  },
  {
   "cell_type": "markdown",
   "metadata": {},
   "source": [
    "## Globle Configeration By root"
   ]
  },
  {
   "cell_type": "markdown",
   "metadata": {},
   "source": [
    "### Change Node.js Version\n",
    "```shell\n",
    "nodejs -V\n",
    "apt remove nodejs\n",
    "curl -sL https://deb.nodesource.com/setup_12.x | sudo -E bash -\n",
    "sudo apt-get install -y nodejs\n",
    "```"
   ]
  },
  {
   "cell_type": "markdown",
   "metadata": {},
   "source": [
    "### Install JupyterLab\n",
    "\n",
    "```shell\n",
    "pip3 install jupyterlab\n",
    "pip3 install jupyterlab-latex\n",
    "pip3 install ipympl\n",
    "\n",
    "jupyter labextension install @jupyter-widgets/jupyterlab-manager\n",
    "jupyter labextension install jupyterlab-drawio\n",
    "jupyter labextension install @jupyterlab/latex\n",
    "jupyter labextension install @krassowski/jupyterlab_go_to_definition\n",
    "jupyter labextension install @jupyterlab/toc\n",
    "```"
   ]
  },
  {
   "cell_type": "markdown",
   "metadata": {},
   "source": [
    "### Fix Bug1: Chinese words being squares in matplotlib plot\n",
    "Add fonts Microsoft YaHei\n",
    "\n",
    "```shell\n",
    "mkdir /usr/share/fonts/fonts_qz\n",
    "sudo cp /data/qinz18/jupyter_test/msyh* /usr/share/fonts/fonts_qz\n",
    "sudo fc-cache -fv\n",
    "\n",
    "sudo vim /usr/local/lib/python3.6/dist-packages/matplotlib/mpl-data/matplotlibrc\n",
    "```\n",
    "\n",
    "```\n",
    "// in matplotlibrc\n",
    "font.family:  sans-serif\n",
    "font.serif:      Microsoft YaHei,...\n",
    "font.sans-serif: Microsoft YaHei,...\n",
    "```"
   ]
  },
  {
   "cell_type": "markdown",
   "metadata": {},
   "source": [
    "#### Matplotlib Example\n",
    "\n",
    "Use `Shift+Enter` on the fellowing block to run this python code. "
   ]
  },
  {
   "cell_type": "code",
   "execution_count": 10,
   "metadata": {},
   "outputs": [
    {
     "data": {
      "image/png": "[encoded data removed]",
      "text/plain": [
       "<Figure size 432x288 with 1 Axes>"
      ]
     },
     "metadata": {
      "needs_background": "light"
     },
     "output_type": "display_data"
    }
   ],
   "source": [
    "import numpy as np \n",
    "from matplotlib import pyplot as plt \n",
    " \n",
    "x = np.arange(-10,11) \n",
    "y =  2  * x +  5 \n",
    "plt.title(\"Matplotlib demo 中文\") \n",
    "plt.xlabel(\"x axis caption\") \n",
    "plt.ylabel(\"y axis caption\") \n",
    "plt.plot(x,y) \n",
    "plt.show()"
   ]
  },
  {
   "cell_type": "markdown",
   "metadata": {},
   "source": [
    "### Fix Bug2: Chinese words will missing when convert .ipnb to pdf\n",
    "```shell\n",
    "vim /usr/local/lib/python3.6/dist-packages/nbconvert/templates/latex/article.tplx\n",
    "```\n",
    "```\n",
    "//in article.tplx\n",
    "((*- block docclass -*))\n",
    "\\documentclass[11pt]{article}\n",
    "    \\usepackage[UTF8,heading=true]{ctex}\n",
    "((*- endblock docclass -*))\n",
    "```"
   ]
  },
  {
   "cell_type": "markdown",
   "metadata": {},
   "source": [
    "### Fix Bug3: Chinese words will desappear when use Latex-Preview\n",
    "When we write .tex document, we can right-click to open a latex preview, but it can not show the Chinese words, though the Chinese words is correctly drawn on the pdf by Latex.\n",
    "\n",
    "This bug seems difficult but not a big deal now, I will contact to deployer of jupyterlab-latex/rendermime-interface later.\n",
    "\n",
    "<details><summary>Details</summary>\n",
    "<pre>\n",
    "I submit an issue on github\n",
    "<a href=\"https://github.com/jupyterlab/jupyterlab/issues/8962\" target=\"_blank\">Can't see Chinese words in pdf viewer of JupyterLab #8962</a>\n",
    "</pre>\n",
    "<a href=\"https://sm.ms/image/fS8XjwiyYC29Aar\" target=\"_blank\"><img src=\"https://i.loli.net/2020/09/08/fS8XjwiyYC29Aar.png\" ></a>\n",
    "</details>\n",
    "\n",
    "\n",
    "\n",
    "\n",
    "#### **[2020.09.11] It's Fixed now by QZ!**\n",
    "\n",
    "\n",
    "It's about the module `pdf.js` and `@jupyterlab/latex`, jupyterlab use the `pdf.js` without the `cMapUrl`, so that pdfviewer of jupyterlab can't show many fonts.\n",
    "\n",
    "we can change the file `jupyter/lab/staging/node_modules/@jupyterlab/latex/lib/pdf.js`:\n",
    "```js\n",
    "pdfjsLib\n",
    "   .getDocument(this._objectUrl)\n",
    "```\n",
    "to\n",
    "```js\n",
    "pdfjsLib\n",
    "   //.getDocument(this._objectUrl)\n",
    "   .getDocument({url:this._objectUrl,cMapUrl:'https://unpkg.com/pdfjs-dist@2.0.943/cmaps/',cMapPacked:true})\n",
    "```\n",
    "Also can be viewed on github\n",
    "<a href=\"https://github.com/jupyterlab/jupyterlab/issues/8962\" target=\"_blank\">Can't see Chinese words in pdf viewer of JupyterLab #8962</a>\n"
   ]
  },
  {
   "cell_type": "markdown",
   "metadata": {},
   "source": [
    "### ReBuild ROOT to Enable PyROOT\n",
    "\n",
    "```shell\n",
    "-DPYTHON_EXECUTABLE:UNINITIALIZED=/usr/bin/python3.6 \\\n",
    "-DPYTHON_INCLUDE_DIR=/usr/include/python3.6 \\\n",
    "-DPYTHON_LIBRARY=/usr/lib/x86_64-linux-gnu/libpython3.6m.so.1.0\n",
    "```\n",
    "\n",
    "How to use ROOT on JupyterLab is showed on this test`/data/JupyROOT_test.ipynb`, to be completed.\n",
    "\n",
    "Also, I will try labextension `@zaitsev136/jupyterlab-root-viewer` and `jupyterlab_rootjs`\n",
    "\n",
    "**[2020.09.10]** **I fixed the jsroot bug now!(by QZ)**  See details in `/data/JupyROOT_test.ipynb`"
   ]
  },
  {
   "cell_type": "markdown",
   "metadata": {},
   "source": [
    "### Add Spell Checker to JupyterLab[2020.09.19 QZ]\n",
    "\n",
    "Find a nice extension [@ijmbarr/jupyterlab_spellchecker](https://github.com/ijmbarr/jupyterlab_spellchecker), to use the newest version of it, I rollback jupyterlab to `version@2.2.4`, so it can use the new future:`ignore` and `Suggestion`, like the gif in `detail`\n",
    "\n",
    "<details><summary>Details</summary>\n",
    "<pre>\n",
    "Right-Click on the wrong spelling, you will see the `ignore` and `Suggestion`.\n",
    "</pre>\n",
    "<a href=\"https://github.com/ijmbarr/jupyterlab_spellchecker/pull/22\" target=\"_blank\"><img src=\"https://user-images.githubusercontent.com/5832902/88500326-41a19380-cfc0-11ea-9851-1c8edf7845f1.gif\" ></a>\n",
    "</details>\n",
    "\n",
    "The original [@ijmbarr/jupyterlab_spellchecker](https://github.com/ijmbarr/jupyterlab_spellchecker) can't run on `.tex` file for latex, but I fixed it, can be seen in this issue [Spellcheck in TEX Documents?](https://github.com/ijmbarr/jupyterlab_spellchecker/issues/30).\n",
    "\n",
    "In `/usr/local/share/jupyter/lab/staging/node_modules/@ijmbarr/jupyterlab_spellchecker/lib/index.js` or `~/.local/share/jupyter/lab/staging/node_modules/@ijmbarr/jupyterlab_spellchecker/lib/index.js`\n",
    "```javascript\n",
    "Use the following code:\n",
    " 87         this.accepted_types = [\n",
    " 88             'text/plain',\n",
    " 89             'text/x-ipythongfm',\n",
    " 90             'text/x-latex',\n",
    " 91         ];\n",
    "\n",
    "```\n",
    "\n",
    "One more thing can with [@ijmbarr/jupyterlab_spellchecker](https://github.com/ijmbarr/jupyterlab_spellchecker) we can take some attention to follow is `Adding Additional Dictionaries` in [https://github.com/ijmbarr/jupyterlab_spellchecker/issues/29](https://github.com/ijmbarr/jupyterlab_spellchecker/issues/29)."
   ]
  },
  {
   "cell_type": "markdown",
   "metadata": {},
   "source": [
    "### JupyterLab&Labextension Version [2020.09.19 QZ]\n",
    "```shell\n",
    "# jupyter labextension list\n",
    "JupyterLab v2.2.4\n",
    "Known labextensions:\n",
    "   app dir: /usr/local/share/jupyter/lab\n",
    "        @ijmbarr/jupyterlab_spellchecker v0.1.8  enabled  OK\n",
    "        @jupyter-widgets/jupyterlab-manager v2.0.0  enabled  OK\n",
    "        @jupyterlab/latex v2.0.1  enabled  OK\n",
    "        @jupyterlab/toc v4.0.0  enabled  OK\n",
    "        @krassowski/jupyterlab_go_to_definition v1.0.0  enabled  OK\n",
    "        jupyter-matplotlib v0.7.3  enabled  OK\n",
    "        jupyterlab-drawio v0.7.0  enabled  OK\n",
    "```"
   ]
  },
  {
   "cell_type": "markdown",
   "metadata": {},
   "source": [
    "## Build A Public JupyterLab(By root)"
   ]
  },
  {
   "cell_type": "markdown",
   "metadata": {},
   "source": [
    "### Add User JupyterPublic\n",
    "```shell\n",
    "useradd -m -s /bin/bash -G ENPGmember JupyterPublic\n",
    "```"
   ]
  },
  {
   "cell_type": "markdown",
   "metadata": {},
   "source": [
    "### Build A Public JupyterLab\n",
    "The prosejure is similar as section `Build Your Own JupyterLab (By user)`, we can login by URL:`http://166.111.26.233:10671` using a password.\n",
    "\n",
    "When we use this Public JupyterLab, we are user JupyterPublic, we have the permission to Creat or Delete file/dir only created by JupyterPublic, and the File Browser will limited in dir:`/data`(treat it like `/`). You'd better create files/dirs in your own dir or dir:`/data/JupyterPublic`."
   ]
  },
  {
   "cell_type": "markdown",
   "metadata": {},
   "source": [
    "## Build Your Own JupyterLab (By user)\n",
    "### Create Your JupyterLab Password and Config File\n",
    "\n",
    "```shell\n",
    "jupyter notebook password\n",
    "```\n",
    "\n",
    "It will also automaticly create a configure file `~/.jupyter/jupyter_notebook_config.json`, and fill your password(after hashed).\n",
    "\n",
    "***You should make your password as strong as possible!***"
   ]
  },
  {
   "cell_type": "markdown",
   "metadata": {},
   "source": [
    "### Configure\n",
    "\n",
    "```shell\n",
    "vim ~/.jupyter/jupyter_notebook_config.json\n",
    "```\n",
    "\n",
    "Follwing is the `jupyter_notebook_config.json` of JupyterPublic\n",
    "\n",
    "```json\n",
    "{\n",
    "  \"NotebookApp\": {\n",
    "    \"password\": \"argon2:$argon2id$v=19$m=10240,t=10,p=8$wi8TYq9AOrtkJZXrIojqxQ$PwSMVdy4jlWNC34hUhVWhg\",\n",
    "    \"allow_root\": false,\n",
    "    \"ip\": \"0.0.0.0\",\n",
    "    \"notebook_dir\": \"/data/qinz18\",\n",
    "    \"open_browser\": false,\n",
    "    \"port\": 10671\n",
    "  },\n",
    "  \"LatexConfig\": {\n",
    "    \"run_times\": 3\n",
    "  }\n",
    "}\n",
    "\n",
    "```\n",
    "Edit your `jupyter_notebook_config.json` same as JupyterPublic's, except the value of password, port, notebook_dir.\n",
    "\n",
    "You must change the port to another number(in 10600-11000), then You'd better change notebook_dir to `/data/username`"
   ]
  },
  {
   "cell_type": "markdown",
   "metadata": {},
   "source": [
    "### Build\n",
    "**[2020.9.11]** This procedure not necessary now! jupyterlab app is now build on `/usr/local/share/jupyter/lab` by root.\n",
    "```shell\n",
    "jupyter lab build --app-dir=~/.local/share/jupyter/lab\n",
    "```"
   ]
  },
  {
   "cell_type": "markdown",
   "metadata": {},
   "source": [
    "### Run Your JupyterLab Background\n",
    "\n",
    "**Two Way to Run Your JupyterLab Background**\n",
    "\n",
    "`screen` or `nohup`\n",
    "\n",
    "#### Using screen(Recommend)\n",
    "\n",
    "- Using screen(Recommend):\n",
    "\n",
    "```shell\n",
    "screen -S myjupyter\n",
    "# or make a log use this:\n",
    "screen -L -Logfile screen_myjupyter.log -S myjupyter\n",
    "# run jupyter lab:\n",
    "jupyter lab\n",
    "# then press Ctrl+A then D to exit(detach) screen\n",
    "# you can use the following to get in when you want to check or shutdown your JupyterLab\n",
    "screen -r myjupyter\n",
    "# then you can just type exit to shutdown and kill this screen\n",
    "```\n",
    "\n",
    "#### Or using nohup\n",
    "- Or using nohup:\n",
    "\n",
    "```shell\n",
    "nohup jupyter lab >nohub_myjupyter.log 2>$1 &\n",
    "```"
   ]
  },
  {
   "cell_type": "markdown",
   "metadata": {},
   "source": [
    "### Use the JyputerLab\n",
    "\n",
    "Use your local browser to get URL:`http://166.111.26.233:[your_port]`, than login by your strong password just set."
   ]
  },
  {
   "cell_type": "markdown",
   "metadata": {},
   "source": [
    "### Remove JupyterLab for Yourself\n",
    "If you want to remove JupyterLab(or reinstall it), you'd check this:\n",
    "```shell\n",
    "cp /home/qinz18/removejupyterlab.sh ~\n",
    ". ~/removejupyterlab.sh\n",
    "```"
   ]
  }
 ],
 "metadata": {
  "kernelspec": {
   "display_name": "Python 3",
   "language": "python",
   "name": "python3"
  },
  "language_info": {
   "codemirror_mode": {
    "name": "ipython",
    "version": 3
   },
   "file_extension": ".py",
   "mimetype": "text/x-python",
   "name": "python",
   "nbconvert_exporter": "python",
   "pygments_lexer": "ipython3",
   "version": "3.6.9"
  },
  "latex_envs": {
   "LaTeX_envs_menu_present": true,
   "autoclose": false,
   "autocomplete": true,
   "bibliofile": "biblio.bib",
   "cite_by": "apalike",
   "current_citInitial": 1,
   "eqLabelWithNumbers": true,
   "eqNumInitial": 1,
   "hotkeys": {
    "equation": "Ctrl-E",
    "itemize": "Ctrl-I"
   },
   "labels_anchors": false,
   "latex_user_defs": false,
   "report_style_numbering": false,
   "user_envs_cfg": false
  },
  "toc": {
   "base_numbering": 1,
   "nav_menu": {},
   "number_sections": true,
   "sideBar": true,
   "skip_h1_title": false,
   "title_cell": "Table of Contents",
   "title_sidebar": "Contents",
   "toc_cell": false,
   "toc_position": {},
   "toc_section_display": true,
   "toc_window_display": false
  },
  "toc-autonumbering": true,
  "toc-showcode": false,
  "toc-showmarkdowntxt": false,
  "toc-showtags": false,
  "varInspector": {
   "cols": {
    "lenName": 16,
    "lenType": 16,
    "lenVar": 40
   },
   "kernels_config": {
    "python": {
     "delete_cmd_postfix": "",
     "delete_cmd_prefix": "del ",
     "library": "var_list.py",
     "varRefreshCmd": "print(var_dic_list())"
    },
    "r": {
     "delete_cmd_postfix": ") ",
     "delete_cmd_prefix": "rm(",
     "library": "var_list.r",
     "varRefreshCmd": "cat(var_dic_list()) "
    }
   },
   "types_to_exclude": [
    "module",
    "function",
    "builtin_function_or_method",
    "instance",
    "_Feature"
   ],
   "window_display": false
  }
 },
 "nbformat": 4,
 "nbformat_minor": 4
}
